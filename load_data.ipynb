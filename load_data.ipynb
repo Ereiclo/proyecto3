{
 "cells": [
  {
   "cell_type": "code",
   "execution_count": 1,
   "metadata": {},
   "outputs": [],
   "source": [
    "import matplotlib.pyplot as plt\n",
    "import mpl_toolkits.mplot3d  # \n",
    "from sklearn import datasets\n",
    "from sklearn.decomposition import PCA\n",
    "from sklearn.preprocessing import MinMaxScaler\n",
    "import pandas as pd\n",
    "import numpy as np"
   ]
  },
  {
   "cell_type": "code",
   "execution_count": 2,
   "metadata": {},
   "outputs": [],
   "source": [
    "def to_multi_label(Y,clases):\n",
    "\n",
    "    Y_result = []\n",
    "\n",
    "    for class_ in Y:\n",
    "        encode_for_elem = [0 for _ in range(len(clases.keys()))]\n",
    "        encode_for_elem[clases[class_]] = 1\n",
    "        Y_result.append(encode_for_elem)\n",
    "    \n",
    "\n",
    "    return np.array(Y_result)\n",
    "\n"
   ]
  },
  {
   "cell_type": "code",
   "execution_count": 7,
   "metadata": {},
   "outputs": [],
   "source": [
    "#testear iris\n",
    "scaler = MinMaxScaler()\n",
    "iris_X = scaler.fit_transform(datasets.load_iris().data)\n",
    "iris_Y = datasets.load_iris().target\n",
    "# iris_Y[0] = 30\n",
    "clases_list = sorted(list({elem for elem in iris_Y}))\n",
    "clases_dict = {clases_list[i]: i for i in range(len(clases_list))}\n",
    "iris_Y = pd.DataFrame(to_multi_label(iris_Y,clases_dict))\n",
    "\n",
    "\n",
    "\n",
    "# df_Iris['c'] = iris_Y \n",
    "\n",
    "\n",
    "pd.DataFrame(iris_X).to_csv('./datasets/iris.csv',index=False)\n",
    "pd.DataFrame(iris_Y).to_csv('./datasets/iris_pred.csv',index=False)\n",
    "\n",
    "\n",
    "\n"
   ]
  },
  {
   "cell_type": "code",
   "execution_count": null,
   "metadata": {},
   "outputs": [],
   "source": []
  }
 ],
 "metadata": {
  "kernelspec": {
   "display_name": "Python 3",
   "language": "python",
   "name": "python3"
  },
  "language_info": {
   "codemirror_mode": {
    "name": "ipython",
    "version": 3
   },
   "file_extension": ".py",
   "mimetype": "text/x-python",
   "name": "python",
   "nbconvert_exporter": "python",
   "pygments_lexer": "ipython3",
   "version": "3.10.6"
  },
  "orig_nbformat": 4
 },
 "nbformat": 4,
 "nbformat_minor": 2
}
