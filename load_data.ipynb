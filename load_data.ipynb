{
 "cells": [
  {
   "cell_type": "code",
   "execution_count": 15,
   "metadata": {},
   "outputs": [],
   "source": [
    "import matplotlib.pyplot as plt\n",
    "import mpl_toolkits.mplot3d  # \n",
    "from sklearn import datasets\n",
    "from sklearn.decomposition import PCA\n",
    "from sklearn.preprocessing import MinMaxScaler\n",
    "import pandas as pd\n",
    "import numpy as np\n",
    "import librosa\n",
    "import os"
   ]
  },
  {
   "cell_type": "code",
   "execution_count": 2,
   "metadata": {},
   "outputs": [],
   "source": [
    "def to_multi_label(Y,clases):\n",
    "\n",
    "    Y_result = []\n",
    "\n",
    "    for class_ in Y:\n",
    "        encode_for_elem = [0 for _ in range(len(clases.keys()))]\n",
    "        encode_for_elem[clases[class_]] = 1\n",
    "        Y_result.append(encode_for_elem)\n",
    "    \n",
    "\n",
    "    return np.array(Y_result)\n",
    "\n"
   ]
  },
  {
   "cell_type": "code",
   "execution_count": 28,
   "metadata": {},
   "outputs": [
    {
     "ename": "NameError",
     "evalue": "name 'to_multi_label' is not defined",
     "output_type": "error",
     "traceback": [
      "\u001b[0;31m---------------------------------------------------------------------------\u001b[0m",
      "\u001b[0;31mNameError\u001b[0m                                 Traceback (most recent call last)",
      "Cell \u001b[0;32mIn[28], line 8\u001b[0m\n\u001b[1;32m      6\u001b[0m clases_list \u001b[39m=\u001b[39m \u001b[39msorted\u001b[39m(\u001b[39mlist\u001b[39m({elem \u001b[39mfor\u001b[39;00m elem \u001b[39min\u001b[39;00m iris_Y}))\n\u001b[1;32m      7\u001b[0m clases_dict \u001b[39m=\u001b[39m {clases_list[i]: i \u001b[39mfor\u001b[39;00m i \u001b[39min\u001b[39;00m \u001b[39mrange\u001b[39m(\u001b[39mlen\u001b[39m(clases_list))}\n\u001b[0;32m----> 8\u001b[0m iris_Y \u001b[39m=\u001b[39m pd\u001b[39m.\u001b[39mDataFrame(to_multi_label(iris_Y,clases_dict))\n\u001b[1;32m     12\u001b[0m \u001b[39m# df_Iris['c'] = iris_Y \u001b[39;00m\n\u001b[1;32m     15\u001b[0m pd\u001b[39m.\u001b[39mDataFrame(iris_X)\u001b[39m.\u001b[39mto_csv(\u001b[39m'\u001b[39m\u001b[39m./datasets/iris.csv\u001b[39m\u001b[39m'\u001b[39m,index\u001b[39m=\u001b[39m\u001b[39mFalse\u001b[39;00m)\n",
      "\u001b[0;31mNameError\u001b[0m: name 'to_multi_label' is not defined"
     ]
    }
   ],
   "source": [
    "#testear iris\n",
    "scaler = MinMaxScaler()\n",
    "iris_X = scaler.fit_transform(datasets.load_iris().data)\n",
    "iris_Y = datasets.load_iris().target\n",
    "# iris_Y[0] = 30\n",
    "clases_list = sorted(list({elem for elem in iris_Y}))\n",
    "clases_dict = {clases_list[i]: i for i in range(len(clases_list))}\n",
    "iris_Y = pd.DataFrame(to_multi_label(iris_Y,clases_dict))\n",
    "\n",
    "\n",
    "\n",
    "# df_Iris['c'] = iris_Y \n",
    "\n",
    "\n",
    "pd.DataFrame(iris_X).to_csv('./datasets/iris.csv',index=False)\n",
    "pd.DataFrame(iris_Y).to_csv('./datasets/iris_pred.csv',index=False)\n",
    "\n",
    "\n",
    "\n"
   ]
  },
  {
   "cell_type": "code",
   "execution_count": 29,
   "metadata": {},
   "outputs": [],
   "source": [
    "def generar_vector_caracteristico(audio, k=128 ):\n",
    "    señal, frecuencia_muestreo = librosa.load(audio)\n",
    "    # print(\"frecuencia de muestreo\", frecuencia_muestreo)\n",
    "    mfcc = librosa.feature.mfcc(y=señal, sr=frecuencia_muestreo, n_mfcc=k)\n",
    "    # print(mfcc.shape)\n",
    "    mfcc_promedio = np.mean(mfcc, axis=1)\n",
    "    return mfcc_promedio"
   ]
  },
  {
   "cell_type": "code",
   "execution_count": 35,
   "metadata": {},
   "outputs": [],
   "source": [
    "def load_sounds_dataset():\n",
    "    base_dir = './sound_dataset/'\n",
    "    type_sounds = ['Song', 'Speech']\n",
    "\n",
    "    X = []\n",
    "    Y = []\n",
    "\n",
    "    for type_ in type_sounds:\n",
    "        for dir_ in os.scandir(base_dir + type_):\n",
    "            actual_actor = int(dir_.name.split('_')[1])\n",
    "\n",
    "            for audio in os.scandir(dir_.path):\n",
    "                # print(audio.path)\n",
    "                X.append(generar_vector_caracteristico(audio.path))\n",
    "                Y.append(actual_actor-1)\n",
    "\n",
    "        # print([dir_.path for dir_ in os.scandir(base_dir + type_)])\n",
    "\n",
    "    return np.array(X),np.array(Y)\n",
    "            \n",
    "\n"
   ]
  },
  {
   "cell_type": "code",
   "execution_count": 36,
   "metadata": {},
   "outputs": [],
   "source": [
    "#cargar la data y guardarla \n",
    "\n",
    "\n",
    "# X_sound,Y_sound = load_sounds_dataset()\n",
    "# print(X_sound)\n",
    "# np.save('./sound_dataset_numpy/sound_data',X_sound)\n",
    "# np.save('./sound_dataset_numpy/sound_class',Y_sound)"
   ]
  },
  {
   "cell_type": "code",
   "execution_count": 42,
   "metadata": {},
   "outputs": [
    {
     "name": "stdout",
     "output_type": "stream",
     "text": [
      "{0, 1, 2, 3, 4, 5, 6, 7, 8, 9, 10, 11, 12, 13, 14, 15, 16, 17, 18, 19, 20, 21, 22, 23}\n"
     ]
    }
   ],
   "source": [
    "X_sound = np.load('./sound_dataset_numpy/sound_data.npy') \n",
    "Y_sound = np.load('./sound_dataset_numpy/sound_class.npy') \n",
    "\n",
    "print({elem for elem in Y_sound})"
   ]
  }
 ],
 "metadata": {
  "kernelspec": {
   "display_name": "Python 3",
   "language": "python",
   "name": "python3"
  },
  "language_info": {
   "codemirror_mode": {
    "name": "ipython",
    "version": 3
   },
   "file_extension": ".py",
   "mimetype": "text/x-python",
   "name": "python",
   "nbconvert_exporter": "python",
   "pygments_lexer": "ipython3",
   "version": "3.10.6"
  },
  "orig_nbformat": 4
 },
 "nbformat": 4,
 "nbformat_minor": 2
}
