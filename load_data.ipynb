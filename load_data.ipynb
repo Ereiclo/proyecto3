{
 "cells": [
  {
   "cell_type": "code",
   "execution_count": 1,
   "metadata": {},
   "outputs": [],
   "source": [
    "import matplotlib.pyplot as plt\n",
    "import mpl_toolkits.mplot3d  # \n",
    "from sklearn import datasets\n",
    "from sklearn.decomposition import PCA\n",
    "from sklearn.preprocessing import MinMaxScaler\n",
    "import pandas as pd\n",
    "import numpy as np\n",
    "import librosa\n",
    "import os"
   ]
  },
  {
   "cell_type": "code",
   "execution_count": 2,
   "metadata": {},
   "outputs": [],
   "source": [
    "#convierte una clase a one-hot encoding\n",
    "def to_multi_label(Y,clases):\n",
    "\n",
    "    Y_result = []\n",
    "\n",
    "    for class_ in Y:\n",
    "        encode_for_elem = [0 for _ in range(len(clases.keys()))]\n",
    "        encode_for_elem[clases[class_]] = 1\n",
    "        Y_result.append(encode_for_elem)\n",
    "    \n",
    "\n",
    "    return np.array(Y_result)\n",
    "\n",
    "\n",
    "#particionar el dataset\n",
    "def split_dataset(X, Y):\n",
    "\n",
    "    X_train = X.sample(frac=0.7,random_state=42).sort_index()\n",
    "    print(X_train)\n",
    "    train_indexes = X.index.isin(X_train.index)\n",
    "    Y_train = Y[train_indexes]\n",
    "\n",
    "    X_test = X[~train_indexes]\n",
    "    Y_test = Y[~train_indexes]\n",
    "\n",
    "\n",
    "    return X_train,Y_train,X_test,Y_test\n"
   ]
  },
  {
   "cell_type": "code",
   "execution_count": 53,
   "metadata": {},
   "outputs": [
    {
     "name": "stdout",
     "output_type": "stream",
     "text": [
      "            0         1         2         3\n",
      "1    0.166667  0.416667  0.067797  0.041667\n",
      "2    0.111111  0.500000  0.050847  0.041667\n",
      "3    0.083333  0.458333  0.084746  0.041667\n",
      "4    0.194444  0.666667  0.067797  0.041667\n",
      "5    0.305556  0.791667  0.118644  0.125000\n",
      "..        ...       ...       ...       ...\n",
      "144  0.666667  0.541667  0.796610  1.000000\n",
      "146  0.555556  0.208333  0.677966  0.750000\n",
      "147  0.611111  0.416667  0.711864  0.791667\n",
      "148  0.527778  0.583333  0.745763  0.916667\n",
      "149  0.444444  0.416667  0.694915  0.708333\n",
      "\n",
      "[105 rows x 4 columns]\n"
     ]
    }
   ],
   "source": [
    "#testear iris\n",
    "scaler = MinMaxScaler()\n",
    "iris_X = scaler.fit_transform(datasets.load_iris().data)\n",
    "iris_Y = datasets.load_iris().target\n",
    "# iris_Y[0] = 30\n",
    "clases_list = sorted(list({elem for elem in iris_Y}))\n",
    "clases_dict = {clases_list[i]: i for i in range(len(clases_list))}\n",
    "iris_Y = to_multi_label(iris_Y,clases_dict)\n",
    "\n",
    "\n",
    "\n",
    "# df_Iris['c'] = iris_Y \n",
    "\n",
    "\n",
    "iris_X_train,iris_Y_train,iris_X_test,iris_Y_test = split_dataset(pd.DataFrame(iris_X),pd.DataFrame(iris_Y))\n",
    "\n",
    "\n",
    "pd.DataFrame(iris_X).to_csv('./datasets/iris.csv',index=False)\n",
    "pd.DataFrame( iris_Y ).to_csv('./datasets/iris_clases.csv',index=False)\n",
    "\n",
    "\n",
    "iris_X_train.to_csv('./datasets/iris_data_train.csv',index=False)\n",
    "iris_Y_train.to_csv('./datasets/iris_class_train.csv',index=False)\n",
    "\n",
    "iris_X_test.to_csv('./datasets/iris_data_test.csv',index=False)\n",
    "iris_Y_test.to_csv('./datasets/iris_class_test.csv',index=False)\n",
    "\n",
    "\n",
    "\n",
    "\n",
    "\n"
   ]
  },
  {
   "cell_type": "code",
   "execution_count": 29,
   "metadata": {},
   "outputs": [],
   "source": [
    "def generar_vector_caracteristico(audio, k=128 ):\n",
    "    señal, frecuencia_muestreo = librosa.load(audio)\n",
    "    # print(\"frecuencia de muestreo\", frecuencia_muestreo)\n",
    "    mfcc = librosa.feature.mfcc(y=señal, sr=frecuencia_muestreo, n_mfcc=k)\n",
    "    # print(mfcc.shape)\n",
    "    mfcc_promedio = np.mean(mfcc, axis=1)\n",
    "    return mfcc_promedio"
   ]
  },
  {
   "cell_type": "code",
   "execution_count": 35,
   "metadata": {},
   "outputs": [],
   "source": [
    "def load_sounds_dataset():\n",
    "    base_dir = './sound_dataset/'\n",
    "    type_sounds = ['Song', 'Speech']\n",
    "\n",
    "    X = []\n",
    "    Y = []\n",
    "\n",
    "    for type_ in type_sounds:\n",
    "        for dir_ in os.scandir(base_dir + type_):\n",
    "            actual_actor = int(dir_.name.split('_')[1])\n",
    "\n",
    "            for audio in os.scandir(dir_.path):\n",
    "                # print(audio.path)\n",
    "                X.append(generar_vector_caracteristico(audio.path))\n",
    "                Y.append(actual_actor-1)\n",
    "\n",
    "        # print([dir_.path for dir_ in os.scandir(base_dir + type_)])\n",
    "\n",
    "    return np.array(X),np.array(Y)\n",
    "            \n",
    "\n"
   ]
  },
  {
   "cell_type": "code",
   "execution_count": 36,
   "metadata": {},
   "outputs": [],
   "source": [
    "#cargar la data y guardarla \n",
    "\n",
    "\n",
    "# X_sound,Y_sound = load_sounds_dataset()\n",
    "# print(X_sound)\n",
    "# np.save('./sound_dataset_numpy/sound_data',X_sound)\n",
    "# np.save('./sound_dataset_numpy/sound_class',Y_sound)"
   ]
  },
  {
   "cell_type": "code",
   "execution_count": 4,
   "metadata": {},
   "outputs": [
    {
     "name": "stdout",
     "output_type": "stream",
     "text": [
      "{0, 1, 2, 3, 4, 5, 6, 7, 8, 9, 10, 11, 12, 13, 14, 15, 16, 17, 18, 19, 20, 21, 22, 23}\n"
     ]
    }
   ],
   "source": [
    "#cargar la data\n",
    "X_sound = np.load('./sound_dataset_numpy/sound_data.npy') \n",
    "Y_sound = np.load('./sound_dataset_numpy/sound_class.npy') \n",
    "\n",
    "print({elem for elem in Y_sound})"
   ]
  },
  {
   "cell_type": "code",
   "execution_count": 5,
   "metadata": {},
   "outputs": [
    {
     "name": "stdout",
     "output_type": "stream",
     "text": [
      "           0         1         2         3         4         5         6     \n",
      "0     0.818013  0.315803  0.227568  0.477789  0.204595  0.417914  0.809512  \\\n",
      "2     0.606459  0.217251  0.308788  0.447186  0.276982  0.406557  0.512188   \n",
      "3     0.740811  0.249952  0.335013  0.476063  0.261451  0.400675  0.633804   \n",
      "5     0.778418  0.291061  0.198693  0.536982  0.165564  0.425439  0.768862   \n",
      "6     0.626714  0.255640  0.130376  0.479592  0.246257  0.363614  0.602295   \n",
      "...        ...       ...       ...       ...       ...       ...       ...   \n",
      "2424  0.293614  0.593787  0.857361  0.637633  0.750869  0.718272  0.746552   \n",
      "2425  0.398680  0.616588  0.613254  0.682693  0.732840  0.633587  0.624005   \n",
      "2426  0.247889  0.695642  0.836352  0.778750  0.695685  0.796617  0.773703   \n",
      "2427  0.252065  0.714850  0.812693  0.820671  0.716951  0.765718  0.856571   \n",
      "2428  0.505754  0.499576  0.570895  0.484241  0.654812  0.606467  0.762960   \n",
      "\n",
      "           7         8         9    ...       118       119       120   \n",
      "0     0.337648  0.622857  0.372568  ...  0.465413  0.481055  0.494339  \\\n",
      "2     0.320496  0.545058  0.339931  ...  0.422952  0.569648  0.536752   \n",
      "3     0.255972  0.590934  0.380182  ...  0.227234  0.583023  0.618352   \n",
      "5     0.305664  0.654563  0.390227  ...  0.533118  0.595922  0.476934   \n",
      "6     0.298586  0.566248  0.376181  ...  0.281054  0.594630  0.520777   \n",
      "...        ...       ...       ...  ...       ...       ...       ...   \n",
      "2424  0.624355  0.734903  0.505029  ...  0.336671  0.424503  0.524589   \n",
      "2425  0.324750  0.663073  0.509413  ...  0.281104  0.224733  0.405372   \n",
      "2426  0.633165  0.846881  0.404822  ...  0.261045  0.473996  0.763882   \n",
      "2427  0.698409  0.777196  0.415193  ...  0.367393  0.655191  0.846073   \n",
      "2428  0.380921  0.719341  0.448090  ...  0.314701  0.483015  0.600556   \n",
      "\n",
      "           121       122       123       124       125       126       127  \n",
      "0     0.554738  0.396614  0.390340  0.659706  0.555245  0.648341  0.537548  \n",
      "2     0.513681  0.398985  0.519410  0.420416  0.413237  0.394689  0.476824  \n",
      "3     0.406897  0.314018  0.383332  0.532696  0.507481  0.678835  0.508581  \n",
      "5     0.287536  0.423615  0.509725  0.629636  0.454513  0.686329  0.683435  \n",
      "6     0.274785  0.430478  0.680067  0.494516  0.180796  0.535875  0.467418  \n",
      "...        ...       ...       ...       ...       ...       ...       ...  \n",
      "2424  0.587977  0.626205  0.502268  0.506721  0.647047  0.600553  0.505806  \n",
      "2425  0.423288  0.355116  0.325395  0.442010  0.520830  0.619437  0.633347  \n",
      "2426  0.601569  0.299398  0.338473  0.555316  0.693071  0.697061  0.472517  \n",
      "2427  0.600510  0.357013  0.578794  0.401053  0.774698  0.718948  0.332022  \n",
      "2428  0.494978  0.319683  0.367806  0.465887  0.453390  0.463269  0.624457  \n",
      "\n",
      "[1700 rows x 128 columns]\n"
     ]
    }
   ],
   "source": [
    "#dataset\n",
    "\n",
    "scaler = MinMaxScaler()\n",
    "X_sound = scaler.fit_transform(X_sound)\n",
    "# iris_Y[0] = 30\n",
    "clases_list = sorted(list({elem for elem in Y_sound}))\n",
    "clases_dict = {clases_list[i]: i for i in range(len(clases_list))}\n",
    "\n",
    "Y_sound = to_multi_label(Y_sound,clases_dict)\n",
    "\n",
    "\n",
    "\n",
    "# df_Iris['c'] = iris_Y \n",
    "\n",
    "\n",
    "sound_X_train,sound_Y_train,sound_X_test,sound_Y_test = split_dataset(pd.DataFrame(X_sound),pd.DataFrame(Y_sound))\n",
    "\n",
    "\n",
    "#guardar el dataset ya convertido a vectores caracteristicos\n",
    "sound_X_train.to_csv('./datasets/sound_data_train.csv',index=False)\n",
    "sound_Y_train.to_csv('./datasets/sound_class_train.csv',index=False)\n",
    "\n",
    "sound_X_test.to_csv('./datasets/sound_data_test.csv',index=False)\n",
    "sound_Y_test.to_csv('./datasets/sound_class_test.csv',index=False)\n",
    "\n"
   ]
  }
 ],
 "metadata": {
  "kernelspec": {
   "display_name": "Python 3",
   "language": "python",
   "name": "python3"
  },
  "language_info": {
   "codemirror_mode": {
    "name": "ipython",
    "version": 3
   },
   "file_extension": ".py",
   "mimetype": "text/x-python",
   "name": "python",
   "nbconvert_exporter": "python",
   "pygments_lexer": "ipython3",
   "version": "3.10.6"
  },
  "orig_nbformat": 4
 },
 "nbformat": 4,
 "nbformat_minor": 2
}
