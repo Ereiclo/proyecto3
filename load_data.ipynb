{
 "cells": [
  {
   "cell_type": "code",
   "execution_count": 3,
   "metadata": {},
   "outputs": [],
   "source": [
    "import matplotlib.pyplot as plt\n",
    "import mpl_toolkits.mplot3d  # \n",
    "from sklearn import datasets\n",
    "from sklearn.decomposition import PCA\n",
    "from sklearn.preprocessing import MinMaxScaler\n",
    "import pandas as pd\n",
    "import numpy as np\n",
    "import librosa\n",
    "import os"
   ]
  },
  {
   "cell_type": "code",
   "execution_count": 51,
   "metadata": {},
   "outputs": [],
   "source": [
    "def to_multi_label(Y,clases):\n",
    "\n",
    "    Y_result = []\n",
    "\n",
    "    for class_ in Y:\n",
    "        encode_for_elem = [0 for _ in range(len(clases.keys()))]\n",
    "        encode_for_elem[clases[class_]] = 1\n",
    "        Y_result.append(encode_for_elem)\n",
    "    \n",
    "\n",
    "    return np.array(Y_result)\n",
    "\n",
    "\n",
    "def split_dataset(X, Y):\n",
    "\n",
    "    X_train = X.sample(frac=0.7,random_state=0).sort_index()\n",
    "    print(X_train)\n",
    "    train_indexes = X.index.isin(X_train.index)\n",
    "    Y_train = Y[train_indexes]\n",
    "\n",
    "    X_test = X[~train_indexes]\n",
    "    Y_test = Y[~train_indexes]\n",
    "\n",
    "\n",
    "    return X_train,Y_train,X_test,Y_test\n"
   ]
  },
  {
   "cell_type": "code",
   "execution_count": 52,
   "metadata": {},
   "outputs": [
    {
     "name": "stdout",
     "output_type": "stream",
     "text": [
      "            0         1         2         3\n",
      "1    0.166667  0.416667  0.067797  0.041667\n",
      "2    0.111111  0.500000  0.050847  0.041667\n",
      "3    0.083333  0.458333  0.084746  0.041667\n",
      "4    0.194444  0.666667  0.067797  0.041667\n",
      "5    0.305556  0.791667  0.118644  0.125000\n",
      "..        ...       ...       ...       ...\n",
      "144  0.666667  0.541667  0.796610  1.000000\n",
      "146  0.555556  0.208333  0.677966  0.750000\n",
      "147  0.611111  0.416667  0.711864  0.791667\n",
      "148  0.527778  0.583333  0.745763  0.916667\n",
      "149  0.444444  0.416667  0.694915  0.708333\n",
      "\n",
      "[105 rows x 4 columns]\n"
     ]
    }
   ],
   "source": [
    "#testear iris\n",
    "scaler = MinMaxScaler()\n",
    "iris_X = scaler.fit_transform(datasets.load_iris().data)\n",
    "iris_Y = datasets.load_iris().target\n",
    "# iris_Y[0] = 30\n",
    "clases_list = sorted(list({elem for elem in iris_Y}))\n",
    "clases_dict = {clases_list[i]: i for i in range(len(clases_list))}\n",
    "iris_Y = pd.DataFrame(to_multi_label(iris_Y,clases_dict))\n",
    "\n",
    "\n",
    "\n",
    "# df_Iris['c'] = iris_Y \n",
    "\n",
    "\n",
    "iris_X_train,iris_Y_train,iris_X_test,iris_Y_test = split_dataset(pd.DataFrame(iris_X),pd.DataFrame(iris_Y))\n",
    "\n",
    "\n",
    "pd.DataFrame(iris_X).to_csv('./datasets/iris.csv',index=False)\n",
    "pd.DataFrame( iris_Y ).to_csv('./datasets/iris_clases.csv',index=False)\n",
    "\n",
    "\n",
    "iris_X_train.to_csv('./datasets/iris_data_train.csv',index=False)\n",
    "iris_Y_train.to_csv('./datasets/iris_class_train.csv',index=False)\n",
    "\n",
    "iris_X_test.to_csv('./datasets/iris_data_test.csv',index=False)\n",
    "iris_Y_test.to_csv('./datasets/iris_class_test.csv',index=False)\n",
    "\n",
    "\n",
    "\n",
    "\n",
    "\n"
   ]
  },
  {
   "cell_type": "code",
   "execution_count": 29,
   "metadata": {},
   "outputs": [],
   "source": [
    "def generar_vector_caracteristico(audio, k=128 ):\n",
    "    señal, frecuencia_muestreo = librosa.load(audio)\n",
    "    # print(\"frecuencia de muestreo\", frecuencia_muestreo)\n",
    "    mfcc = librosa.feature.mfcc(y=señal, sr=frecuencia_muestreo, n_mfcc=k)\n",
    "    # print(mfcc.shape)\n",
    "    mfcc_promedio = np.mean(mfcc, axis=1)\n",
    "    return mfcc_promedio"
   ]
  },
  {
   "cell_type": "code",
   "execution_count": 35,
   "metadata": {},
   "outputs": [],
   "source": [
    "def load_sounds_dataset():\n",
    "    base_dir = './sound_dataset/'\n",
    "    type_sounds = ['Song', 'Speech']\n",
    "\n",
    "    X = []\n",
    "    Y = []\n",
    "\n",
    "    for type_ in type_sounds:\n",
    "        for dir_ in os.scandir(base_dir + type_):\n",
    "            actual_actor = int(dir_.name.split('_')[1])\n",
    "\n",
    "            for audio in os.scandir(dir_.path):\n",
    "                # print(audio.path)\n",
    "                X.append(generar_vector_caracteristico(audio.path))\n",
    "                Y.append(actual_actor-1)\n",
    "\n",
    "        # print([dir_.path for dir_ in os.scandir(base_dir + type_)])\n",
    "\n",
    "    return np.array(X),np.array(Y)\n",
    "            \n",
    "\n"
   ]
  },
  {
   "cell_type": "code",
   "execution_count": 36,
   "metadata": {},
   "outputs": [],
   "source": [
    "#cargar la data y guardarla \n",
    "\n",
    "\n",
    "# X_sound,Y_sound = load_sounds_dataset()\n",
    "# print(X_sound)\n",
    "# np.save('./sound_dataset_numpy/sound_data',X_sound)\n",
    "# np.save('./sound_dataset_numpy/sound_class',Y_sound)"
   ]
  },
  {
   "cell_type": "code",
   "execution_count": 42,
   "metadata": {},
   "outputs": [
    {
     "name": "stdout",
     "output_type": "stream",
     "text": [
      "{0, 1, 2, 3, 4, 5, 6, 7, 8, 9, 10, 11, 12, 13, 14, 15, 16, 17, 18, 19, 20, 21, 22, 23}\n"
     ]
    }
   ],
   "source": [
    "X_sound = np.load('./sound_dataset_numpy/sound_data.npy') \n",
    "Y_sound = np.load('./sound_dataset_numpy/sound_class.npy') \n",
    "\n",
    "print({elem for elem in Y_sound})"
   ]
  }
 ],
 "metadata": {
  "kernelspec": {
   "display_name": "Python 3",
   "language": "python",
   "name": "python3"
  },
  "language_info": {
   "codemirror_mode": {
    "name": "ipython",
    "version": 3
   },
   "file_extension": ".py",
   "mimetype": "text/x-python",
   "name": "python",
   "nbconvert_exporter": "python",
   "pygments_lexer": "ipython3",
   "version": "3.10.6"
  },
  "orig_nbformat": 4
 },
 "nbformat": 4,
 "nbformat_minor": 2
}
